{
  "cells": [
    {
      "cell_type": "code",
      "execution_count": null,
      "metadata": {
        "id": "M4fFxMBlQNn3"
      },
      "outputs": [],
      "source": [
        "!pip install -q parlai\n",
        "!pip install -q subword_nmt\n",
        "!pip install transformers"
      ]
    },
    {
      "cell_type": "markdown",
      "source": [
        "# Transformer Model - Final Milestone 3"
      ],
      "metadata": {
        "id": "OATbP8IujBF7"
      }
    },
    {
      "cell_type": "code",
      "source": [
        "import torch\n",
        "import torch.nn as nn\n",
        "import torch.nn.functional as F\n",
        "import parlai.core.torch_generator_agent as tga\n",
        "from parlai.core.agents import register_agent, Agent\n",
        "import nltk\n",
        "nltk.download('punkt')\n",
        "from parlai.scripts.train_model import TrainModel\n",
        "from parlai.scripts.display_model import DisplayModel"
      ],
      "metadata": {
        "id": "HPNnTtWafFjn"
      },
      "execution_count": null,
      "outputs": []
    },
    {
      "cell_type": "code",
      "execution_count": null,
      "metadata": {
        "id": "Jo84hkdXQuKx"
      },
      "outputs": [],
      "source": [
        "TrainModel.main(\n",
        "    model='transformer/generator',\n",
        "    model_file='transformer_milestone3/model',\n",
        "    task='personachat:both_revised',\n",
        "    embedding_type='fasttext_cc',\n",
        "    dict_tokenizer='bpe',\n",
        "    init_model='zoo:tutorial_transformer_generator/model',\n",
        "    dict_file='zoo:tutorial_transformer_generator/model.dict',\n",
        "    metrics = 'ppl,bleu,rouge',\n",
        "    activation='gelu',\n",
        "    variant='xlm',\n",
        "    optimizer='adam',\n",
        "    dynamic_batching='full',\n",
        "    dict_lower=True,\n",
        "    learn_positional_embeddings=True,\n",
        "    n_heads=16,\n",
        "    n_layers=8,\n",
        "    n_positions=512,\n",
        "    text_truncate=512,\n",
        "    label_truncate=128,\n",
        "    ffn_size=2048,\n",
        "    embedding_size=512,\n",
        "    lr=1e-5,\n",
        "    warmup_updates=100,\n",
        "    max_train_time=3600,\n",
        "    truncate = 256,\n",
        "    batchsize=7,\n",
        ")"
      ]
    },
    {
      "cell_type": "code",
      "execution_count": null,
      "metadata": {
        "id": "dMqDtRkqQ6rt"
      },
      "outputs": [],
      "source": [
        "DisplayModel.main(\n",
        "    task='personachat:both_revised',\n",
        "    model_file='transformer_milestone3/model',\n",
        "    num_examples=35,\n",
        ")"
      ]
    },
    {
      "cell_type": "markdown",
      "source": [
        "# GPT 2 - Performance Check"
      ],
      "metadata": {
        "id": "NeY1zPzajRO9"
      }
    },
    {
      "cell_type": "code",
      "source": [
        "TrainModel.main(\n",
        "    model='hugging_face/gpt2',\n",
        "    model_file='gpt2_performance_check/model',\n",
        "    task='personachat:both_revised',\n",
        "    embedding_type='fasttext_cc',\n",
        "    batchsize=5,\n",
        "    max_train_time=3600,\n",
        "    dynamic_batching='full',\n",
        "    truncate = 128,\n",
        "    metrics = 'ppl,bleu,rouge',\n",
        ")"
      ],
      "metadata": {
        "id": "4sfanu0JjVzh"
      },
      "execution_count": null,
      "outputs": []
    },
    {
      "cell_type": "code",
      "source": [
        "DisplayModel.main(\n",
        "    task='personachat:both_revised',\n",
        "    model_file='gpt2_performance_check/model',\n",
        "    num_examples=35,\n",
        ")"
      ],
      "metadata": {
        "id": "Wk25VwkhjcZH"
      },
      "execution_count": null,
      "outputs": []
    }
  ],
  "metadata": {
    "accelerator": "GPU",
    "colab": {
      "collapsed_sections": [],
      "name": "Milestone3.ipynb",
      "provenance": []
    },
    "kernelspec": {
      "display_name": "Python 3 (ipykernel)",
      "language": "python",
      "name": "python3"
    },
    "language_info": {
      "codemirror_mode": {
        "name": "ipython",
        "version": 3
      },
      "file_extension": ".py",
      "mimetype": "text/x-python",
      "name": "python",
      "nbconvert_exporter": "python",
      "pygments_lexer": "ipython3",
      "version": "3.9.12"
    }
  },
  "nbformat": 4,
  "nbformat_minor": 0
}